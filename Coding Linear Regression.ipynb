{
 "cells": [
  {
   "cell_type": "markdown",
   "metadata": {},
   "source": [
    "### Coding Linear Regression Algorithm\n",
    "\n",
    "As we have now studied the math behind Linear Regression, we will be coding our own LR algorithm (1-D).\n",
    "The requirements of the algorithm are:\n",
    "* A function fit that receives X_train and Y_train and trains the model on that data. This function will basically calculate the optimal coefficients of m and c.\n",
    "* A function predict that receives the X_test, m and c as parameters and uses m and c to generate Y_predict\n",
    "* A function named score that will use the formula of coefficient of determination to calculate the score of our algorithm, this funciton will require Y_test, and Y_predicted as its parameters\n",
    "* The last function we need to define is the Cost Function that will calculate the error function for all data points using the cost function formula, this function will require, X, Y, m and c as parameters"
   ]
  },
  {
   "cell_type": "code",
   "execution_count": 1,
   "metadata": {},
   "outputs": [],
   "source": [
    "import numpy as np"
   ]
  },
  {
   "cell_type": "code",
   "execution_count": 2,
   "metadata": {},
   "outputs": [
    {
     "data": {
      "text/plain": [
       "((100,), (100,))"
      ]
     },
     "execution_count": 2,
     "metadata": {},
     "output_type": "execute_result"
    }
   ],
   "source": [
    "# Loading Data\n",
    "data = np.loadtxt('data.csv', delimiter=\",\")\n",
    "\n",
    "# Splitting Features and Output\n",
    "X = data[:, 0]\n",
    "Y = data[:, 1]\n",
    "\n",
    "X.shape, Y.shape"
   ]
  },
  {
   "cell_type": "code",
   "execution_count": 3,
   "metadata": {},
   "outputs": [],
   "source": [
    "from sklearn import model_selection"
   ]
  },
  {
   "cell_type": "code",
   "execution_count": 4,
   "metadata": {},
   "outputs": [
    {
     "data": {
      "text/plain": [
       "((75,), (25,), (75,), (25,))"
      ]
     },
     "execution_count": 4,
     "metadata": {},
     "output_type": "execute_result"
    }
   ],
   "source": [
    "X_train, X_test, Y_train, Y_test = model_selection.train_test_split(X, Y)\n",
    "\n",
    "X_train.shape, X_test.shape, Y_train.shape, Y_test.shape"
   ]
  },
  {
   "cell_type": "markdown",
   "metadata": {},
   "source": [
    "Now that our data is split into training and testing datasets, we can go ahead and write the function to code our own Linear Regression algorithm."
   ]
  },
  {
   "cell_type": "code",
   "execution_count": 5,
   "metadata": {},
   "outputs": [],
   "source": [
    "def fit(X_train, Y_train):\n",
    "    # Using the formula derived for optimal coefficients\n",
    "    # We calculate m and c\n",
    "    numerator = (np.mean(X_train * Y_train)) - (np.mean(X_train) * np.mean(Y_train))\n",
    "    denominator = (np.mean(X_train**2)) - (np.mean(X_train) * np.mean(X_train))\n",
    "    m = numerator / denominator\n",
    "    c = np.mean(Y_train) - (m * np.mean(X_train))\n",
    "    return (m, c)"
   ]
  },
  {
   "cell_type": "code",
   "execution_count": 6,
   "metadata": {},
   "outputs": [],
   "source": [
    "def predict(X_test, m, c):\n",
    "    # Here we simply generate the fit line by calculating Y for all X_test data points\n",
    "    # Numpy arrays make this extra simple\n",
    "    return m*X_test + c"
   ]
  },
  {
   "cell_type": "code",
   "execution_count": 7,
   "metadata": {},
   "outputs": [],
   "source": [
    "def score(Y_test, Y_pred):\n",
    "    # Here we calculate the coefficient of determination\n",
    "    u = np.sum((Y_test - Y_pred)**2)\n",
    "    v = np.sum((Y_test - np.mean(Y_test))**2)\n",
    "    return 1 - (u / v)"
   ]
  },
  {
   "cell_type": "code",
   "execution_count": 8,
   "metadata": {},
   "outputs": [],
   "source": [
    "def cost(X, Y, m, c):\n",
    "    # We calculate the error for each data point in our data set here\n",
    "    total_cost = np.mean((Y - (m*X + c))**2)\n",
    "    return total_cost"
   ]
  },
  {
   "cell_type": "code",
   "execution_count": 9,
   "metadata": {},
   "outputs": [
    {
     "name": "stdout",
     "output_type": "stream",
     "text": [
      "M, C 1.2034175463933428 13.496578597683445\n",
      "Score 0.6350533202377575\n",
      "Cost on training data 101.05127294222592\n"
     ]
    }
   ],
   "source": [
    "# Traing the algorithm on the training data and generate m and c\n",
    "m, c = fit(X_train, Y_train)\n",
    "\n",
    "# Use the generated coefficients to get the FIT LINE for test data X\n",
    "Y_pred = predict(X_test, m, c)\n",
    "\n",
    "# Get the score of our algorithm using coefficient of determination\n",
    "sc = score(Y_test, Y_pred)\n",
    "\n",
    "# Getting the total error/deviation in our prediction using the Error function formula\n",
    "err = cost(X_train, Y_train, m, c)\n",
    "\n",
    "print(\"M, C\", m, c)\n",
    "print(\"Score\", sc)\n",
    "print(\"Cost on training data\", err)"
   ]
  }
 ],
 "metadata": {
  "kernelspec": {
   "display_name": "Python 3",
   "language": "python",
   "name": "python3"
  },
  "language_info": {
   "codemirror_mode": {
    "name": "ipython",
    "version": 3
   },
   "file_extension": ".py",
   "mimetype": "text/x-python",
   "name": "python",
   "nbconvert_exporter": "python",
   "pygments_lexer": "ipython3",
   "version": "3.7.1"
  }
 },
 "nbformat": 4,
 "nbformat_minor": 2
}
